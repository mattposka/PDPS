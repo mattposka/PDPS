{
 "cells": [
  {
   "cell_type": "code",
   "execution_count": 2,
   "id": "9c937c3a",
   "metadata": {},
   "outputs": [],
   "source": [
    "import numpy as np\n",
    "import scipy as sp\n",
    "import matplotlib.pyplot as plt\n",
    "%matplotlib inline\n",
    "import os"
   ]
  },
  {
   "cell_type": "code",
   "execution_count": 4,
   "id": "16f55de2",
   "metadata": {},
   "outputs": [],
   "source": [
    "img_pth = '/home/mposka/data/resultFiles2/whole_fig_pred/rapa_cam_15_2021-03-26_0100_Map.png'"
   ]
  },
  {
   "cell_type": "code",
   "execution_count": 20,
   "id": "1dbfc438",
   "metadata": {},
   "outputs": [
    {
     "name": "stderr",
     "output_type": "stream",
     "text": [
      "/home/mposka/miniconda3/envs/leaf_seg/lib/python3.6/site-packages/ipykernel_launcher.py:2: DeprecationWarning:     `imread` is deprecated!\n",
      "    `imread` is deprecated in SciPy 1.0.0, and will be removed in 1.2.0.\n",
      "    Use ``imageio.imread`` instead.\n",
      "  \n"
     ]
    }
   ],
   "source": [
    "import scipy.misc as spm\n",
    "img = spm.imread(img_pth)"
   ]
  },
  {
   "cell_type": "code",
   "execution_count": 8,
   "id": "a79fdf1e",
   "metadata": {},
   "outputs": [],
   "source": [
    "import GUI"
   ]
  },
  {
   "cell_type": "code",
   "execution_count": 9,
   "id": "70f85943",
   "metadata": {},
   "outputs": [
    {
     "data": {
      "image/png": "[encoded data removed]",
      "text/plain": [
       "<Figure size 432x288 with 1 Axes>"
      ]
     },
     "metadata": {
      "needs_background": "light"
     },
     "output_type": "display_data"
    }
   ],
   "source": [
    "plt.imshow(img)\n",
    "plt.show()"
   ]
  },
  {
   "cell_type": "code",
   "execution_count": 66,
   "id": "75ae3ee1",
   "metadata": {},
   "outputs": [],
   "source": [
    " # remove non-circle region\n",
    "def circleFilter( self,new_props,labeled_img,ref_ecc=ref_ecc ):\n",
    "    print( 'len(new_props2) ',len(new_props) )\n",
    "    #for i, reg in enumerate(new_props):\n",
    "    #for i in range( len(new_props) ): \n",
    "    #if reg.eccentricity > ref_ecc:\n",
    "        #print( 'i :',i )\n",
    "        #print( 'reg :',reg )\n",
    "        #print( 'reg.shape :',reg.shape )\n",
    "        #if reg.eccentricity > ref_ecc:\n",
    "        #    labeled_img[labeled_img == reg.label] = 0\n",
    "    return labeled_img"
   ]
  },
  {
   "cell_type": "code",
   "execution_count": 69,
   "id": "81565aa9",
   "metadata": {},
   "outputs": [],
   "source": [
    "import cv2\n",
    "# This will try to combine regions that are very close to one another\n",
    "def combineRegions( labeled_img,ref_ecc,pred_img_pth,expand_ratio=1.025,mal=450 ):\n",
    "    circle_img = np.asarray( labeled_img,dtype=np.uint8 )\n",
    "    #circle_img = cv2.cvtColor(circle_img, cv2.COLOR_BGR2GRAY);\n",
    "    contours,heir = cv2.findContours( circle_img,cv2.RETR_EXTERNAL,cv2.CHAIN_APPROX_NONE )\n",
    "\n",
    "    centers = []\n",
    "    for c in contours:\n",
    "        (x,y),r = cv2.minEnclosingCircle( c ) \n",
    "        if r > 5 and r < int(mal/2):\n",
    "            centers.append( [x,y,r] )\n",
    "    for c in centers:\n",
    "        cv2.circle( circle_img,(int(c[0]),int(c[1])),int(expand_ratio*c[2]),(255),-1 )\n",
    "    cir_img_pth = pred_img_pth.replace( '.png','_cir_img.png' )\n",
    "    imsave( cir_img_pth,circle_img )\n",
    "\n",
    "    labeled_circle = label(circle_img, connectivity=2)\n",
    "    lab_cir_pth = pred_img_pth.replace( '.png','_lab_cir.png' )\n",
    "    imsave( lab_cir_pth,labeled_circle )\n",
    "\n",
    "    labeled_circle[ labeled_img==0 ] = 0\n",
    "    labeled_image = labeled_circle\n",
    "    lab_img_pth = pred_img_pth.replace( '.png','_lab_img.png' )\n",
    "    imsave( lab_img_pth,labeled_circle )\n",
    "    imsave( 'labeled_img.png',labeled_image )\n",
    "\n",
    "    new_props = 0\n",
    "    new_props = regionprops(labeled_image)\n",
    "    print( 'len(new_props) :',len(new_props) )\n",
    "    print( 'new_props[0] :',new_props[0] )\n",
    "    #for prop in new_props:\n",
    "    #    print( 'prop: ',prop )\n",
    "    #    print( 'new_props[prop] ',new_props[prop] )\n",
    "    #print( 'new_props :',new_props['eccentricity'] )\n",
    "    # remove non-circle region\n",
    "    #labeled_img = circleFilter( new_props,labeled_image,ref_ecc )\n",
    "\n",
    "    return labeled_img\n",
    "\n"
   ]
  },
  {
   "cell_type": "code",
   "execution_count": 70,
   "id": "36696923",
   "metadata": {},
   "outputs": [
    {
     "name": "stdout",
     "output_type": "stream",
     "text": [
      "labeled_img.shape : (2464, 3280)\n"
     ]
    },
    {
     "name": "stderr",
     "output_type": "stream",
     "text": [
      "/home/mposka/miniconda3/envs/leaf_seg/lib/python3.6/site-packages/ipykernel_launcher.py:16: DeprecationWarning:     `imsave` is deprecated!\n",
      "    `imsave` is deprecated in SciPy 1.0.0, and will be removed in 1.2.0.\n",
      "    Use ``imageio.imwrite`` instead.\n",
      "  app.launch_new_instance()\n",
      "/home/mposka/miniconda3/envs/leaf_seg/lib/python3.6/site-packages/ipykernel_launcher.py:20: DeprecationWarning:     `imsave` is deprecated!\n",
      "    `imsave` is deprecated in SciPy 1.0.0, and will be removed in 1.2.0.\n",
      "    Use ``imageio.imwrite`` instead.\n",
      "/home/mposka/miniconda3/envs/leaf_seg/lib/python3.6/site-packages/ipykernel_launcher.py:25: DeprecationWarning:     `imsave` is deprecated!\n",
      "    `imsave` is deprecated in SciPy 1.0.0, and will be removed in 1.2.0.\n",
      "    Use ``imageio.imwrite`` instead.\n",
      "/home/mposka/miniconda3/envs/leaf_seg/lib/python3.6/site-packages/ipykernel_launcher.py:26: DeprecationWarning:     `imsave` is deprecated!\n",
      "    `imsave` is deprecated in SciPy 1.0.0, and will be removed in 1.2.0.\n",
      "    Use ``imageio.imwrite`` instead.\n"
     ]
    },
    {
     "name": "stdout",
     "output_type": "stream",
     "text": [
      "len(new_props) : 19\n",
      "new_props[0] : <skimage.measure._regionprops.RegionProperties object at 0x7f3b18215518>\n"
     ]
    }
   ],
   "source": [
    "from skimage.measure import label, regionprops\n",
    "from scipy.misc import imsave\n",
    "from utils.transforms import vl2im\n",
    "\n",
    "img_3c = img\n",
    "img_1c = np.where( img_3c[:,:,2]!=255,1,0 )\n",
    "labeled_img = label(img_1c,connectivity=2)\n",
    "print( 'labeled_img.shape :',labeled_img.shape )\n",
    "\n",
    "ref_ecc=0.75\n",
    "pred_img_pth='failtest.png'\n",
    "labeled_img = combineRegions(labeled_img,ref_ecc,pred_img_pth)"
   ]
  },
  {
   "cell_type": "code",
   "execution_count": null,
   "id": "132f4e6d",
   "metadata": {},
   "outputs": [],
   "source": []
  }
 ],
 "metadata": {
  "kernelspec": {
   "display_name": "Python 3",
   "language": "python",
   "name": "python3"
  },
  "language_info": {
   "codemirror_mode": {
    "name": "ipython",
    "version": 3
   },
   "file_extension": ".py",
   "mimetype": "text/x-python",
   "name": "python",
   "nbconvert_exporter": "python",
   "pygments_lexer": "ipython3",
   "version": "3.6.10"
  }
 },
 "nbformat": 4,
 "nbformat_minor": 5
}
